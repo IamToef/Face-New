{
 "cells": [
  {
   "cell_type": "code",
   "execution_count": 2,
   "metadata": {},
   "outputs": [
    {
     "name": "stdout",
     "output_type": "stream",
     "text": [
      "Thư mục '227460100012' đã được tạo.\n"
     ]
    }
   ],
   "source": [
    "import os\n",
    "\n",
    "# Đường dẫn của thư mục bạn muốn tạo\n",
    "folder_path = input(\"Nhập đường dẫn của thư mục bạn muốn tạo: \")\n",
    "\n",
    "# Tạo thư mục\n",
    "os.makedirs(folder_path, exist_ok=True)\n",
    "\n",
    "print(f\"Thư mục '{folder_path}' đã được tạo.\")"
   ]
  },
  {
   "cell_type": "code",
   "execution_count": 10,
   "metadata": {},
   "outputs": [
    {
     "name": "stdout",
     "output_type": "stream",
     "text": [
      "Tệp '227460100012.txt' đã được tạo trong thư mục '227460100012'.\n"
     ]
    }
   ],
   "source": [
    "# Tên tệp .txt bạn muốn tạo\n",
    "file_name = os.path.basename(folder_path) + \".txt\"\n",
    "\n",
    "# Đường dẫn đầy đủ của tệp .txt\n",
    "file_path = os.path.join(folder_path, file_name)\n",
    "\n",
    "name = input(\"Nhập họ và tên của bạn: \")\n",
    "\n",
    "# Tạo và mở tệp .txt\n",
    "with open(file_path, 'w', encoding='utf-8') as file:\n",
    "    file.write(f\"{name}\\n{file_name}\")\n",
    "\n",
    "print(f\"Tệp '{file_name}' đã được tạo trong thư mục '{folder_path}'.\")"
   ]
  }
 ],
 "metadata": {
  "kernelspec": {
   "display_name": "Python 3",
   "language": "python",
   "name": "python3"
  },
  "language_info": {
   "codemirror_mode": {
    "name": "ipython",
    "version": 3
   },
   "file_extension": ".py",
   "mimetype": "text/x-python",
   "name": "python",
   "nbconvert_exporter": "python",
   "pygments_lexer": "ipython3",
   "version": "3.10.4"
  }
 },
 "nbformat": 4,
 "nbformat_minor": 2
}

{
 "cells": [
  {
   "cell_type": "code",
   "execution_count": 4,
   "metadata": {},
   "outputs": [
    {
     "name": "stdout",
     "output_type": "stream",
     "text": [
      "Tệp '2274601080019.txt' đã được tạo.\n"
     ]
    }
   ],
   "source": [
    "import os\n",
    "\n",
    "mssv = input(\"Nhập mã số sinh viên (MSSV): \")\n",
    "file_name = mssv + \".txt\"\n",
    "folder_path = mssv\n",
    "# Tạo thư mục nếu chưa tồn tại\n",
    "if not os.path.exists(folder_path):\n",
    "    os.makedirs(folder_path)\n",
    "\n",
    "\n",
    "# Đường dẫn đầy đủ của tệp .txt\n",
    "file_path = os.path.join(folder_path, file_name)\n",
    "\n",
    "# Nhập họ và tên\n",
    "name = input(\"Nhập họ và tên của bạn: \")\n",
    "\n",
    "# Tạo và mở tệp .txt\n",
    "with open(file_path, 'w', encoding='utf-8') as file:\n",
    "    file.write(f\"{name}\\n{mssv}\")\n",
    "\n",
    "print(f\"Tệp '{file_name}' đã được tạo.\")\n"
   ]
  }
 ],
 "metadata": {
  "kernelspec": {
   "display_name": "Python 3",
   "language": "python",
   "name": "python3"
  },
  "language_info": {
   "codemirror_mode": {
    "name": "ipython",
    "version": 3
   },
   "file_extension": ".py",
   "mimetype": "text/x-python",
   "name": "python",
   "nbconvert_exporter": "python",
   "pygments_lexer": "ipython3",
   "version": "3.12.1"
  }
 },
 "nbformat": 4,
 "nbformat_minor": 2
}
